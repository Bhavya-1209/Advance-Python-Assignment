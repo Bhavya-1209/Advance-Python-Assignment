{
  "nbformat": 4,
  "nbformat_minor": 0,
  "metadata": {
    "colab": {
      "provenance": [],
      "authorship_tag": "ABX9TyN7gdUuBFXrk7OdJISbtPiq",
      "include_colab_link": true
    },
    "kernelspec": {
      "name": "python3",
      "display_name": "Python 3"
    },
    "language_info": {
      "name": "python"
    }
  },
  "cells": [
    {
      "cell_type": "markdown",
      "metadata": {
        "id": "view-in-github",
        "colab_type": "text"
      },
      "source": [
        "<a href=\"https://colab.research.google.com/github/Bhavya-1209/Advance-Python-Assignment/blob/main/Assignment_Advance_python.ipynb\" target=\"_parent\"><img src=\"https://colab.research.google.com/assets/colab-badge.svg\" alt=\"Open In Colab\"/></a>"
      ]
    },
    {
      "cell_type": "markdown",
      "source": [
        "**Advance Python Assignment**\n",
        "\n",
        "\n",
        "---\n",
        "\n",
        "**Part I: Process Automation**\n"
      ],
      "metadata": {
        "id": "n0E6ImD2UymJ"
      }
    },
    {
      "cell_type": "markdown",
      "source": [
        "Q1. Create a file that contains 1000 lines of random strings."
      ],
      "metadata": {
        "id": "H61tp7ZFVT90"
      }
    },
    {
      "cell_type": "code",
      "source": [
        "import random\n",
        "import string\n",
        "\n",
        "def random_string(length=10):\n",
        "    letters = string.ascii_letters + string.digits\n",
        "    return ''.join(random.choice(letters) for _ in range(length))\n",
        "\n",
        "filename = \"random_strings.txt\"\n",
        "\n",
        "with open(filename, \"w\") as file:\n",
        "    for _ in range(1000):\n",
        "        random_str = random_string(12)  # 12-character random string\n",
        "        file.write(random_str + \"\\n\")\n",
        "\n",
        "print(f\"File '{filename}' created with 1000 random strings.\")\n"
      ],
      "metadata": {
        "colab": {
          "base_uri": "https://localhost:8080/"
        },
        "id": "VQ-7q0wOViyc",
        "outputId": "027e1dd2-68eb-42c9-d5f7-df437c3e16d1"
      },
      "execution_count": 1,
      "outputs": [
        {
          "output_type": "stream",
          "name": "stdout",
          "text": [
            "File 'random_strings.txt' created with 1000 random strings.\n"
          ]
        }
      ]
    },
    {
      "cell_type": "markdown",
      "source": [
        "Q2. Create a file that contains multiple lines of random strings and file size must be 5 MB."
      ],
      "metadata": {
        "id": "1mx0r6azX6Lv"
      }
    },
    {
      "cell_type": "code",
      "source": [
        "import random\n",
        "import string\n",
        "import os\n",
        "\n",
        "def generate_random_string(length=10):\n",
        "    letters = string.ascii_letters + string.digits\n",
        "    return ''.join(random.choice(letters) for _ in range(length))\n",
        "\n",
        "def create_file_with_size(filename, target_size_mb=5):\n",
        "    target_size_bytes = target_size_mb * 1024 * 1024\n",
        "    current_size = 0\n",
        "\n",
        "    with open(filename, 'w') as file:\n",
        "        while current_size < target_size_bytes:\n",
        "            random_str = generate_random_string(10)  # 10 characters per line\n",
        "            file.write(random_str + '\\n')\n",
        "            current_size += len(random_str) + 1  # +1 for newline character\n",
        "\n",
        "    actual_size = os.path.getsize(filename)\n",
        "    print(f\"File '{filename}' created with size: {actual_size / (1024*1024):.2f} MB\")\n",
        "\n",
        "# Usage\n",
        "create_file_with_size(\"random_5MB.txt\", 5)\n"
      ],
      "metadata": {
        "colab": {
          "base_uri": "https://localhost:8080/"
        },
        "id": "Iu3gKRsmYK5T",
        "outputId": "a155227f-73a7-4cf2-e11e-fcc0b4185505"
      },
      "execution_count": 4,
      "outputs": [
        {
          "output_type": "stream",
          "name": "stdout",
          "text": [
            "File 'random_5MB.txt' created with size: 5.00 MB\n"
          ]
        }
      ]
    },
    {
      "cell_type": "markdown",
      "source": [
        "Q3. Create 10 files that contains multiple lines of random strings and file size of each file must be 5 MB."
      ],
      "metadata": {
        "id": "P5v1S5igZN3I"
      }
    },
    {
      "cell_type": "code",
      "source": [],
      "metadata": {
        "id": "ji0E-ei7ZgHz"
      },
      "execution_count": null,
      "outputs": []
    }
  ]
}